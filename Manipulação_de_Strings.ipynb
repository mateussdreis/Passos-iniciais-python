{
  "cells": [
    {
      "cell_type": "markdown",
      "metadata": {
        "id": "view-in-github",
        "colab_type": "text"
      },
      "source": [
        "<a href=\"https://colab.research.google.com/github/mateussdreis/Passos-iniciais-python/blob/master/Manipula%C3%A7%C3%A3o_de_Strings.ipynb\" target=\"_parent\"><img src=\"https://colab.research.google.com/assets/colab-badge.svg\" alt=\"Open In Colab\"/></a>"
      ]
    },
    {
      "cell_type": "markdown",
      "id": "344e0a28-e12d-4972-b770-0ecce6b04ef5",
      "metadata": {
        "id": "344e0a28-e12d-4972-b770-0ecce6b04ef5"
      },
      "source": [
        "# Manipulação de Strings"
      ]
    },
    {
      "cell_type": "markdown",
      "id": "3c35554b-9d97-4313-9dfa-25f7cc593614",
      "metadata": {
        "id": "3c35554b-9d97-4313-9dfa-25f7cc593614"
      },
      "source": [
        "###  Metódos do objeto String"
      ]
    },
    {
      "cell_type": "code",
      "execution_count": null,
      "id": "c10d9238-b228-407a-8358-673fc19f0578",
      "metadata": {
        "id": "c10d9238-b228-407a-8358-673fc19f0578",
        "outputId": "2bc8d036-3307-4ded-bc3e-71992f7e1305"
      },
      "outputs": [
        {
          "name": "stdout",
          "output_type": "stream",
          "text": [
            "Hello World\n"
          ]
        }
      ],
      "source": [
        "# Função Print\n",
        "text =  'Hello World'\n",
        "print(text)"
      ]
    },
    {
      "cell_type": "code",
      "execution_count": null,
      "id": "166641bb-f7dc-4f1a-8750-a3ea0a85628f",
      "metadata": {
        "id": "166641bb-f7dc-4f1a-8750-a3ea0a85628f",
        "outputId": "57db9461-7159-4d1e-cb31-6157d13d0c80"
      },
      "outputs": [
        {
          "name": "stdout",
          "output_type": "stream",
          "text": [
            "Hello World\n"
          ]
        }
      ],
      "source": [
        "# Função Print\n",
        "text =  \"Hello World\"\n",
        "print(text)"
      ]
    },
    {
      "cell_type": "code",
      "execution_count": null,
      "id": "89b0ce5c-24a4-4ae5-a611-1f264b9b76af",
      "metadata": {
        "id": "89b0ce5c-24a4-4ae5-a611-1f264b9b76af",
        "outputId": "a6391549-7d28-4397-a211-a9c18cbac800"
      },
      "outputs": [
        {
          "data": {
            "text/plain": [
              "11"
            ]
          },
          "execution_count": 3,
          "metadata": {},
          "output_type": "execute_result"
        }
      ],
      "source": [
        "# Tamanho de uma string.\n",
        "len(text)"
      ]
    },
    {
      "cell_type": "code",
      "execution_count": null,
      "id": "d9b6e624-30e1-46bf-8cda-6be65cb5967b",
      "metadata": {
        "id": "d9b6e624-30e1-46bf-8cda-6be65cb5967b",
        "outputId": "a3953e6a-b038-4684-99f6-b5d39fc5be02"
      },
      "outputs": [
        {
          "data": {
            "text/plain": [
              "'Hello World Python'"
            ]
          },
          "execution_count": 4,
          "metadata": {},
          "output_type": "execute_result"
        }
      ],
      "source": [
        "# Concatenação\n",
        "\"Hello World\" + \" \" + \"Python\""
      ]
    },
    {
      "cell_type": "code",
      "execution_count": null,
      "id": "1a66ab4c-f483-4aab-b40b-71679018bcc0",
      "metadata": {
        "id": "1a66ab4c-f483-4aab-b40b-71679018bcc0",
        "outputId": "ea7944b9-3502-4023-bfec-f5b6ed75de22"
      },
      "outputs": [
        {
          "data": {
            "text/plain": [
              "'Hello Mundo'"
            ]
          },
          "execution_count": 5,
          "metadata": {},
          "output_type": "execute_result"
        }
      ],
      "source": [
        "# Substitui uma substring por alguma outra coisa.\n",
        "text.replace(\"World\", \"Mundo\")"
      ]
    },
    {
      "cell_type": "code",
      "execution_count": null,
      "id": "0728e8b1-5222-403c-8922-7f8d858311e3",
      "metadata": {
        "id": "0728e8b1-5222-403c-8922-7f8d858311e3",
        "outputId": "cf287e55-4f9f-4a63-8879-ffd8471aeeac"
      },
      "outputs": [
        {
          "data": {
            "text/plain": [
              "1"
            ]
          },
          "execution_count": 6,
          "metadata": {},
          "output_type": "execute_result"
        }
      ],
      "source": [
        "# Contagem da frequência de uma palavra ou caractere\n",
        "text.count(\"Hello\")"
      ]
    },
    {
      "cell_type": "code",
      "execution_count": null,
      "id": "9922b0bf-a6f3-43d6-8db5-7287a66e7e97",
      "metadata": {
        "id": "9922b0bf-a6f3-43d6-8db5-7287a66e7e97",
        "outputId": "8e4043c9-a6d5-416d-e617-070bba69297b"
      },
      "outputs": [
        {
          "data": {
            "text/plain": [
              "'Hello world'"
            ]
          },
          "execution_count": 8,
          "metadata": {},
          "output_type": "execute_result"
        }
      ],
      "source": [
        "# transformar a primeira letra da primeira palavra em maiúscula\n",
        "text = \"hello world\"\n",
        "text.capitalize()"
      ]
    },
    {
      "cell_type": "code",
      "execution_count": null,
      "id": "b2783437-a245-4ce7-9c2b-51189713b048",
      "metadata": {
        "id": "b2783437-a245-4ce7-9c2b-51189713b048",
        "outputId": "ba1a5172-fba6-4c05-b3c7-2634d91780cf"
      },
      "outputs": [
        {
          "data": {
            "text/plain": [
              "True"
            ]
          },
          "execution_count": 13,
          "metadata": {},
          "output_type": "execute_result"
        }
      ],
      "source": [
        "# Como verificar se uma string só possui números.\n",
        "'12345'.isdigit()"
      ]
    },
    {
      "cell_type": "code",
      "execution_count": null,
      "id": "66da7bc2-c223-4378-b4a1-b3d4d5d02d23",
      "metadata": {
        "id": "66da7bc2-c223-4378-b4a1-b3d4d5d02d23",
        "outputId": "daf0b007-690d-4f18-aacf-6d1376971eaa"
      },
      "outputs": [
        {
          "data": {
            "text/plain": [
              "False"
            ]
          },
          "execution_count": 12,
          "metadata": {},
          "output_type": "execute_result"
        }
      ],
      "source": [
        "# Como verificar se uma string só possui números.\n",
        "'12345abc'.isdigit()"
      ]
    },
    {
      "cell_type": "code",
      "execution_count": null,
      "id": "bb691256-5df2-44ef-b2b1-a8fbd9818558",
      "metadata": {
        "id": "bb691256-5df2-44ef-b2b1-a8fbd9818558",
        "outputId": "bdc8655f-b6b2-41bc-cde0-909529168ae0"
      },
      "outputs": [
        {
          "data": {
            "text/plain": [
              "True"
            ]
          },
          "execution_count": 15,
          "metadata": {},
          "output_type": "execute_result"
        }
      ],
      "source": [
        "# Como verificar se uma string é alfanumérica (só possui letras e números).\n",
        "'12345abc'.isalnum()"
      ]
    },
    {
      "cell_type": "code",
      "execution_count": null,
      "id": "18dfd40e-627c-44e9-905a-0d1d5069c2fe",
      "metadata": {
        "id": "18dfd40e-627c-44e9-905a-0d1d5069c2fe",
        "outputId": "49c232ce-f26f-4841-e1f1-22eeb1763e67"
      },
      "outputs": [
        {
          "data": {
            "text/plain": [
              "False"
            ]
          },
          "execution_count": 14,
          "metadata": {},
          "output_type": "execute_result"
        }
      ],
      "source": [
        "# Como verificar se uma string é alfanumérica (só possui letras e números).\n",
        "'12345abc?'.isalnum()"
      ]
    },
    {
      "cell_type": "markdown",
      "id": "a8bb1d78-084a-427f-b262-f69b5aa8193e",
      "metadata": {
        "id": "a8bb1d78-084a-427f-b262-f69b5aa8193e"
      },
      "source": [
        "### Substrings (Slicing)\n",
        "Uma string pode comportar-se como uma lista, tendo indicies e elementos."
      ]
    },
    {
      "cell_type": "code",
      "execution_count": null,
      "id": "5fe1cb9d-dfca-482f-9ff5-5582470081a8",
      "metadata": {
        "id": "5fe1cb9d-dfca-482f-9ff5-5582470081a8",
        "outputId": "3e10a9b2-c9b3-4b35-fcee-25a2f4b4ea1b"
      },
      "outputs": [
        {
          "name": "stdout",
          "output_type": "stream",
          "text": [
            "h\n",
            "w\n"
          ]
        }
      ],
      "source": [
        "# Filtro por indicie\n",
        "print(text[0])\n",
        "print(text[6])"
      ]
    },
    {
      "cell_type": "code",
      "execution_count": null,
      "id": "5fd23989-e150-4e33-9b45-673f517a3e45",
      "metadata": {
        "id": "5fd23989-e150-4e33-9b45-673f517a3e45",
        "outputId": "763f7d73-7c9c-4b14-e453-6ec76976c9c4"
      },
      "outputs": [
        {
          "data": {
            "text/plain": [
              "'hello'"
            ]
          },
          "execution_count": 19,
          "metadata": {},
          "output_type": "execute_result"
        }
      ],
      "source": [
        "#  Slice\n",
        "text[0:5]"
      ]
    },
    {
      "cell_type": "code",
      "execution_count": null,
      "id": "da1e28b2-17cb-42d4-83f2-b83d5e5a700f",
      "metadata": {
        "id": "da1e28b2-17cb-42d4-83f2-b83d5e5a700f",
        "outputId": "58b9d8fe-4597-46ea-b871-ae1d09b8e32a"
      },
      "outputs": [
        {
          "data": {
            "text/plain": [
              "'world'"
            ]
          },
          "execution_count": 20,
          "metadata": {},
          "output_type": "execute_result"
        }
      ],
      "source": [
        "#  Slice\n",
        "text[6:]"
      ]
    },
    {
      "cell_type": "code",
      "execution_count": null,
      "id": "eca03efb-a47d-4c6e-b65c-6f3bd546e9de",
      "metadata": {
        "id": "eca03efb-a47d-4c6e-b65c-6f3bd546e9de",
        "outputId": "20c57f2e-5504-4466-d230-daa4ea3946bd"
      },
      "outputs": [
        {
          "data": {
            "text/plain": [
              "'dlrow olleh'"
            ]
          },
          "execution_count": 21,
          "metadata": {},
          "output_type": "execute_result"
        }
      ],
      "source": [
        "# String inverso\n",
        "text[::-1]"
      ]
    },
    {
      "cell_type": "markdown",
      "id": "e7e56563-7936-411a-969d-ebe276d5b9d0",
      "metadata": {
        "id": "e7e56563-7936-411a-969d-ebe276d5b9d0"
      },
      "source": [
        "### Função Format"
      ]
    },
    {
      "cell_type": "code",
      "execution_count": null,
      "id": "b3f43401-2375-4616-8c47-81849efc5159",
      "metadata": {
        "id": "b3f43401-2375-4616-8c47-81849efc5159",
        "outputId": "5c58b7a3-ac90-481a-8b19-6e87698fb7f8"
      },
      "outputs": [
        {
          "name": "stdout",
          "output_type": "stream",
          "text": [
            "Admirável Mundo Novo\n"
          ]
        }
      ],
      "source": [
        "# A função print concatena strings com um espaço entre elas.\n",
        "print(\"Admirável\", \"Mundo\", \"Novo\")"
      ]
    },
    {
      "cell_type": "code",
      "execution_count": null,
      "id": "4bd6d9b2-c5ae-4f03-83b5-c12f897782a2",
      "metadata": {
        "id": "4bd6d9b2-c5ae-4f03-83b5-c12f897782a2",
        "outputId": "246c4211-2b81-48fa-ebaf-054d0c7e3508"
      },
      "outputs": [
        {
          "name": "stdout",
          "output_type": "stream",
          "text": [
            "1984 George Orwell\n"
          ]
        }
      ],
      "source": [
        "# A função print converte números para strings.\n",
        "print(1984, \"George Orwell\")"
      ]
    },
    {
      "cell_type": "code",
      "execution_count": null,
      "id": "0eac5136-9205-48bb-b3af-d4e71cd53ddb",
      "metadata": {
        "id": "0eac5136-9205-48bb-b3af-d4e71cd53ddb",
        "outputId": "41901df3-4382-4e48-d9b9-f6905c8b61bd"
      },
      "outputs": [
        {
          "name": "stdout",
          "output_type": "stream",
          "text": [
            "#ProgramandoEmPython\n"
          ]
        }
      ],
      "source": [
        "# As strings somadas com + são concatenadas sem espaços entre elas.\n",
        "print(\"#\" + \"Programando\" + \"Em\" + \"Python\")"
      ]
    },
    {
      "cell_type": "code",
      "execution_count": null,
      "id": "d0388a43-975d-422e-9858-a34b441341a5",
      "metadata": {
        "id": "d0388a43-975d-422e-9858-a34b441341a5",
        "outputId": "be8e5429-85ec-4c38-aa43-818848c7efd7"
      },
      "outputs": [
        {
          "name": "stdout",
          "output_type": "stream",
          "text": [
            "Um triângulo de base igual a 3 e altura igual a 4 possui área igual a 12.\n"
          ]
        }
      ],
      "source": [
        "print('Um triângulo de base igual a {0} e altura igual a {1} possui área igual a {2}.'.format(3, 4, 12))"
      ]
    },
    {
      "cell_type": "code",
      "execution_count": null,
      "id": "5b51192b-6851-4b4c-a1cd-50a2e025c16a",
      "metadata": {
        "id": "5b51192b-6851-4b4c-a1cd-50a2e025c16a",
        "outputId": "4c0916c3-6ec4-4677-85e4-6d15025dd82b"
      },
      "outputs": [
        {
          "name": "stdout",
          "output_type": "stream",
          "text": [
            "Programando Python\n"
          ]
        }
      ],
      "source": [
        "# Formatação de strings com f-strings\n",
        "linguagem = \"Python\"\n",
        "print(f\"Programando {linguagem}\")"
      ]
    },
    {
      "cell_type": "code",
      "execution_count": null,
      "id": "736dd4af-26c7-4334-9d85-bb9aa8b2fb32",
      "metadata": {
        "id": "736dd4af-26c7-4334-9d85-bb9aa8b2fb32",
        "outputId": "1a0dee58-3988-47ad-fe3b-2d38e7f1b9b7"
      },
      "outputs": [
        {
          "name": "stdout",
          "output_type": "stream",
          "text": [
            "Ontem consegui 490.55 reais!\n"
          ]
        }
      ],
      "source": [
        "# Podemos condicionar as entradas Format, nesse caso fixado em float com decimal ate duas\n",
        "# casas\n",
        "txt = \"Ontem consegui {price:.2f} reais!\"\n",
        "print(txt.format(price = 490.5544))"
      ]
    },
    {
      "cell_type": "code",
      "execution_count": null,
      "id": "0bdca107-8a01-4acb-8ae9-c34e877d5631",
      "metadata": {
        "id": "0bdca107-8a01-4acb-8ae9-c34e877d5631",
        "outputId": "bdca984c-a659-4fa1-c1d0-dcd8483b5d6a"
      },
      "outputs": [
        {
          "name": "stdout",
          "output_type": "stream",
          "text": [
            "Meu nome é John, tenho 36 anos\n",
            "Meu nome é John, tenho 36 anos\n",
            "Meu nome é John, tenho 36 anos\n"
          ]
        }
      ],
      "source": [
        "# Modos de organizar o nosso format nas strings.\n",
        "print(\"Meu nome é {fname}, tenho {age} anos\".format(fname = \"John\", age = 36))\n",
        "print(\"Meu nome é {0}, tenho {1} anos\".format(\"John\",36))\n",
        "print(\"Meu nome é {}, tenho {} anos\".format(\"John\",36))"
      ]
    },
    {
      "cell_type": "code",
      "execution_count": null,
      "id": "68d4dbb1-785f-4839-87b2-c5054a4b0894",
      "metadata": {
        "id": "68d4dbb1-785f-4839-87b2-c5054a4b0894",
        "outputId": "30f05105-95b5-45ce-a463-c659155bc689"
      },
      "outputs": [
        {
          "name": "stdout",
          "output_type": "stream",
          "text": [
            "Minha média de acerto nos penaltis foi de 55.000000% reais!\n"
          ]
        }
      ],
      "source": [
        "# Outro tipo de fortmação de entradas format, nesse caso Porcentagem\n",
        "txt = \"Minha média de acerto nos penaltis foi de {goal:%} reais!\"\n",
        "print(txt.format(goal = 0.55))"
      ]
    },
    {
      "cell_type": "markdown",
      "id": "9eaf773d-3c05-4cf2-af04-c3f782f92553",
      "metadata": {
        "id": "9eaf773d-3c05-4cf2-af04-c3f782f92553"
      },
      "source": [
        "\n",
        "- :<\t\tResultado alinhado à esquerda (within the available space)\n",
        "- :>\t\tResultado alinhado à direita (within the available space)\n",
        "- :^\t\tResultado alinhado ao centro (within the available space)\n",
        "- :=\t\tPlaces the sign to the left most position\n",
        "- :+\t\tUtiliza o sinal positivo para indicar resultados positivo entre os negativos\n",
        "- :-\t\tUtiliza o sinal negativo apenas para valores negativos\n",
        "- : \t\t Utiliza espaço para inseir um espaço extra antes de numero positivos (o sinal negativo em números negaticos\n",
        "- :,\t\tVirgula como separador de milhares\n",
        "- :_\t\tUnderline como separador de milhares\n",
        "- :b\t\tFormato Binário\n",
        "- :c\t\tConversor para unidecode\n",
        "- :d\t\tFormato Decimal\n",
        "- :e\t\tScientific format, with a lower case e\n",
        "- :E\t\tScientific format, with an upper case E\n",
        "- :f\t\tFix point number format Fixar o ponto do número.\n",
        "- :F\t\tFix point number format Fixar o ponto do número (Mostrando valores Nulos)\n",
        "- :g\t\tFormato Geral\n",
        "- :G\t\tFormato Geral (Condicionado para Caixas Altas)\n",
        "- :o\t\tOFormato em Octal\n",
        "- :x\t\tFormat em Hexadecimal em Caixa Baixa\n",
        "- :X\t\tFormat em Hexadecimal em Caixa Alta\n",
        "- :n\t\tFormato Númerico\n",
        "- :%\t\tFormato de Procentagem"
      ]
    },
    {
      "cell_type": "code",
      "execution_count": null,
      "id": "0869b6a1-e1af-4ade-9bb5-9c3fd2b4339e",
      "metadata": {
        "id": "0869b6a1-e1af-4ade-9bb5-9c3fd2b4339e"
      },
      "outputs": [],
      "source": []
    }
  ],
  "metadata": {
    "kernelspec": {
      "display_name": "Python 3 (ipykernel)",
      "language": "python",
      "name": "python3"
    },
    "language_info": {
      "codemirror_mode": {
        "name": "ipython",
        "version": 3
      },
      "file_extension": ".py",
      "mimetype": "text/x-python",
      "name": "python",
      "nbconvert_exporter": "python",
      "pygments_lexer": "ipython3",
      "version": "3.8.13"
    },
    "colab": {
      "provenance": [],
      "include_colab_link": true
    }
  },
  "nbformat": 4,
  "nbformat_minor": 5
}