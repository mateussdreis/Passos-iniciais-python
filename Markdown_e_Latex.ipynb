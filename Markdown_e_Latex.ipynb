{
  "cells": [
    {
      "cell_type": "markdown",
      "metadata": {
        "id": "view-in-github",
        "colab_type": "text"
      },
      "source": [
        "<a href=\"https://colab.research.google.com/github/mateussdreis/Passos-iniciais-python/blob/master/Markdown_e_Latex.ipynb\" target=\"_parent\"><img src=\"https://colab.research.google.com/assets/colab-badge.svg\" alt=\"Open In Colab\"/></a>"
      ]
    },
    {
      "cell_type": "markdown",
      "id": "bd205cb2-7139-4af3-8ce1-f45ed856e8bb",
      "metadata": {
        "id": "bd205cb2-7139-4af3-8ce1-f45ed856e8bb"
      },
      "source": [
        "# Markdown e Latex\n",
        "\n",
        "É uma liguagem de marcação, não de programação. Tem como objetivo criar textos e documentos por meio de *rich text*. Markdown interpreta dos comandos em um texto final em HTML válido."
      ]
    },
    {
      "cell_type": "markdown",
      "id": "0b3db191-956d-479c-92da-a3ddbac8e0e0",
      "metadata": {
        "id": "0b3db191-956d-479c-92da-a3ddbac8e0e0"
      },
      "source": [
        "## Sintáxe Basica\n",
        "\n",
        "são os elementos mais utilizados na liguagem de marcação, contempla a edição de titulos, estilo de fontes, tópicos, links e imagens."
      ]
    },
    {
      "cell_type": "markdown",
      "id": "68900a4a-47d9-4b44-9419-ff1ee49ee87a",
      "metadata": {
        "id": "68900a4a-47d9-4b44-9419-ff1ee49ee87a"
      },
      "source": [
        "### Titulos\n",
        "\n",
        "Markdown utiliza a notação Headers, a quantidade de **#** reduz o tamanho da fonte do título:\n",
        "\n",
        "# Título\n",
        "## Título\n",
        "### Título\n",
        "#### Título\n",
        "##### Título"
      ]
    },
    {
      "cell_type": "markdown",
      "id": "ffe92801-ceb4-4cf1-8fe3-0ad12b7097c6",
      "metadata": {
        "id": "ffe92801-ceb4-4cf1-8fe3-0ad12b7097c6"
      },
      "source": [
        "### Fontes\n",
        "\n",
        "*italico* com * simples\n",
        "\n",
        "**Negrito** com * duplo\n"
      ]
    },
    {
      "cell_type": "markdown",
      "id": "edc505e7-503c-4a65-8768-7190824e6e99",
      "metadata": {
        "id": "edc505e7-503c-4a65-8768-7190824e6e99"
      },
      "source": [
        "### Tópicos\n",
        "\n",
        "Podemos criar uma **lista Ordenada** com uso do numeral com um ponto final e um espaço em branco do texto do item, como nesse exemplo: \"1. Item\".\n",
        "\n",
        "1. Primeiro Item\n",
        "2. Segundo Item\n",
        "3. Terceiro Item\n",
        "4. Quarto Item\n",
        "\n",
        "No caso de listas não ordenadas utilizamos o simbolo de menos ou traço \"-\" com um espaço em branco do texto do item.\n",
        "\n",
        "- Primeiro Item\n",
        "- Segundo Item\n",
        "- Terceiro Item\n",
        "- Quarto Item"
      ]
    },
    {
      "cell_type": "markdown",
      "id": "6e2e13c7-5bc0-41e6-9528-d010d3f304fc",
      "metadata": {
        "id": "6e2e13c7-5bc0-41e6-9528-d010d3f304fc"
      },
      "source": [
        "### Espaço de código\n",
        "\n",
        "Para dar destaques  para codigos em sua documentação é possivel utilizar o code word utilizando acento crase ao redor da palavra. Segue o exemplo abaixo.\n",
        "\n",
        "` Hello World `"
      ]
    },
    {
      "cell_type": "markdown",
      "id": "f9f6ac9b-8068-4eeb-a8e6-f4725fe7f824",
      "metadata": {
        "id": "f9f6ac9b-8068-4eeb-a8e6-f4725fe7f824"
      },
      "source": [
        "###  Links\n",
        "\n",
        "Conseguimos pôr *hiperlinks* em certas palavras da documentação utilizando essa notação:\n",
        "\n",
        "`[titulo](link url)`\n",
        "\n",
        "Um exemplo:\n",
        "\n",
        "[google](www.google.com)"
      ]
    },
    {
      "cell_type": "markdown",
      "id": "27869655-8a7b-4373-99ef-50a0b6a2bfca",
      "metadata": {
        "id": "27869655-8a7b-4373-99ef-50a0b6a2bfca"
      },
      "source": [
        "### Imagens\n",
        "\n",
        "Uma ferramenta importante é inserir imagens na documentação, neste caso utilizamos quase a mesma estrutura dos links `![nome imagem](url ou path da imagem)`\n",
        "\n",
        "![python](https://penseemti.com.br/wp-content/uploads/2019/01/python-logo.png)"
      ]
    },
    {
      "cell_type": "markdown",
      "id": "67a15ad2-6fd7-4ec6-8805-d98471ad8bcb",
      "metadata": {
        "id": "67a15ad2-6fd7-4ec6-8805-d98471ad8bcb"
      },
      "source": [
        "## Sintáxe Avançadas"
      ]
    },
    {
      "cell_type": "markdown",
      "id": "83c506da-63da-416f-8d04-696847b8a067",
      "metadata": {
        "id": "83c506da-63da-416f-8d04-696847b8a067"
      },
      "source": [
        "### Tabelas\n",
        "\n",
        "Podemos criar tabelas estáticas, embora seja preferível criar a tabela via linguagem de programação pela facilidade, certos momentos precisamos de uma tabela simples e imutável.\n",
        "\n",
        "Para criar uma tabela seguimos essa notação:\n",
        "```\n",
        "\n",
        "| Coluna1 | Coluna2 |\n",
        "| ----------- | ----------- |\n",
        "| valor | valor |\n",
        "| valor | valor |\n",
        "\n",
        "```\n",
        "\n",
        "depois de interpretado a tabela fica:\n",
        "\n",
        "| Coluna1 | Coluna2 |\n",
        "| ----------- | ----------- |\n",
        "| valor | valor |\n",
        "| valor | valor |"
      ]
    },
    {
      "cell_type": "markdown",
      "id": "8022bbdf-9c18-48dc-a7d3-b4dfbe56e9cd",
      "metadata": {
        "id": "8022bbdf-9c18-48dc-a7d3-b4dfbe56e9cd"
      },
      "source": [
        "### Bloco e Código\n",
        "\n",
        "Quando queremos documentar uma parte do código fonte de algum algoritmo e não queremos interpreta-lo, temos a função bloco de código que preserva a formtação e identação e fontes de área de código em um bloco markdown. Para criar esse bloco  de código é envolver seu código entre acento crase triplo.\n",
        "\n",
        "```\n",
        "{\n",
        "  \"firstName\": \"John\",\n",
        "  \"lastName\": \"Smith\",\n",
        "  \"age\": 25\n",
        "}\n",
        "```"
      ]
    },
    {
      "cell_type": "markdown",
      "id": "90a11100-1a05-459f-8c81-cdd73ce4a0cd",
      "metadata": {
        "id": "90a11100-1a05-459f-8c81-cdd73ce4a0cd"
      },
      "source": [
        "### Rasura\n",
        "\n",
        "Podemos Rasurar um texto ou frase utilizando ~ duplo envolvendo o texto ou palavra.\n",
        "\n",
        "~~The world is flat.~~"
      ]
    },
    {
      "cell_type": "markdown",
      "id": "ef60e26f-f39f-4433-b7c1-fd08db8ba8ec",
      "metadata": {
        "tags": [],
        "id": "ef60e26f-f39f-4433-b7c1-fd08db8ba8ec"
      },
      "source": [
        "### Lista de Tarefas\n",
        "\n",
        "Uma opção de tópicos é a lista de tarefas, nela podemos controlar estado dos itens no tópico, utilizamos a estrutura `- [] texto` para sem marcador ou `- [x] texto` com marcador.\n",
        "\n",
        "- [x] Aprender Python\n",
        "- [ ] Aprender R\n",
        "- [ ] Aprender SQL"
      ]
    },
    {
      "cell_type": "markdown",
      "id": "3f329c3e-cc8e-4587-9120-79cb6916c912",
      "metadata": {
        "id": "3f329c3e-cc8e-4587-9120-79cb6916c912"
      },
      "source": [
        "## Atividade\n",
        "\n",
        "Crie um Documento Markdown de tema livre, utilize todas as funcionalidades apresentadas neste notebook."
      ]
    },
    {
      "cell_type": "markdown",
      "id": "92c120fb-9506-4ae9-8f0a-dc40ebcf80da",
      "metadata": {
        "id": "92c120fb-9506-4ae9-8f0a-dc40ebcf80da"
      },
      "source": [
        "## Latex\n",
        "\n",
        "Latex é um sistema de preparação de documentos, um dos pontos aproveitados do Latex no Markdown é a ferramenta de equações matemáticas.\n",
        "\n",
        "Para criar uma equação o conteúdo deve utilizar as funções e notações presentes nesse [link](http://tug.ctan.org/info/undergradmath/undergradmath.pdf), o conteudo gerado deve estar envolto de $ simples.\n",
        "\n",
        "olhe o exemplo abaixo:\n",
        "\n",
        "$ E = mc^2 $"
      ]
    },
    {
      "cell_type": "markdown",
      "id": "4b798c83-84a7-428c-89e4-b3dee8744806",
      "metadata": {
        "id": "4b798c83-84a7-428c-89e4-b3dee8744806"
      },
      "source": [
        "## Atividade\n",
        "\n",
        "Replique as seguintes equações no Latex:\n",
        "\n",
        "1. <img src=\"https://i.insider.com/4fed86f0eab8ea8e6e000014?width=700&format=jpeg&auto=webp\" width=\"200\" height=\"100\">\n",
        "\n",
        "2. <img src=\"https://i.insider.com/4ff1727469bedd6f18000005?width=700&format=jpeg&auto=webp\" width=\"200\" height=\"100\">\n",
        "\n",
        "3. <img src=\"https://i.insider.com/4ff1c1f8eab8ead101000017?width=700&format=jpeg&auto=webp\" width=\"200\" height=\"100\">\n",
        "\n",
        "4. <img src=\"https://i.insider.com/4ff1c8dc6bb3f7c838000013?width=700&format=jpeg&auto=webp\" width=\"200\" height=\"100\">\n",
        "\n",
        "5. <img src=\"https://i.insider.com/4ff174e46bb3f7121e00000b?width=700&format=jpeg&auto=webp\" width=\"200\" height=\"100\">"
      ]
    },
    {
      "cell_type": "markdown",
      "source": [
        "1 - $a^2 + b^2 = c^2$\n",
        "\n",
        "2 - $F = G\\dfrac{m_1 m_2}{d^2}$\n",
        "\n",
        "3 - $dS \\geq 0$\n",
        "\n",
        "4 - $H = - \\sum p(x) \\log p(x)$\n",
        "\n",
        "5 - $\\phi (x) = \\dfrac{1}{\\sqrt{2\\pi σ}}e^{\\dfrac{(x-\\mu)^2}{2\\sigma^2}}$"
      ],
      "metadata": {
        "id": "2E-IQrTEcba6"
      },
      "id": "2E-IQrTEcba6"
    },
    {
      "cell_type": "code",
      "execution_count": null,
      "id": "437ac5cf-82bb-4f5a-a18c-c1d0bef50e6f",
      "metadata": {
        "id": "437ac5cf-82bb-4f5a-a18c-c1d0bef50e6f"
      },
      "outputs": [],
      "source": []
    }
  ],
  "metadata": {
    "kernelspec": {
      "display_name": "Python 3 (ipykernel)",
      "language": "python",
      "name": "python3"
    },
    "language_info": {
      "codemirror_mode": {
        "name": "ipython",
        "version": 3
      },
      "file_extension": ".py",
      "mimetype": "text/x-python",
      "name": "python",
      "nbconvert_exporter": "python",
      "pygments_lexer": "ipython3",
      "version": "3.8.13"
    },
    "colab": {
      "provenance": [],
      "include_colab_link": true
    }
  },
  "nbformat": 4,
  "nbformat_minor": 5
}