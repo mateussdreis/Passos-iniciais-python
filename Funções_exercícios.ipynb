{
  "cells": [
    {
      "cell_type": "markdown",
      "metadata": {
        "id": "view-in-github",
        "colab_type": "text"
      },
      "source": [
        "<a href=\"https://colab.research.google.com/github/mateussdreis/Passos-iniciais-python/blob/master/Fun%C3%A7%C3%B5es_exerc%C3%ADcios.ipynb\" target=\"_parent\"><img src=\"https://colab.research.google.com/assets/colab-badge.svg\" alt=\"Open In Colab\"/></a>"
      ]
    },
    {
      "cell_type": "markdown",
      "id": "5727900f",
      "metadata": {
        "id": "5727900f"
      },
      "source": [
        "\n",
        "## Funções\n",
        "\n",
        "Em Python, uma função é uma sequência de comandos que executa alguma tarefa e que tem um nome. A sua principal finalidade é nos ajudar a organizar programas em pedaços que correspondam a como imaginamos uma solução do problema.\n",
        "\n",
        "A sintaxe de uma definição de função é:"
      ]
    },
    {
      "cell_type": "code",
      "execution_count": 1,
      "id": "931baf54",
      "metadata": {
        "id": "931baf54"
      },
      "outputs": [],
      "source": [
        "def NOME( PARÂMETROS ):\n",
        "    COMANDOS"
      ]
    },
    {
      "cell_type": "code",
      "execution_count": 2,
      "id": "e0f4d9db",
      "metadata": {
        "id": "e0f4d9db"
      },
      "outputs": [],
      "source": [
        "# NOME: soma\n",
        "# PARÂMETROS: x e y\n",
        "# COMANDOS: X + Y\n",
        "# RETORNO: Z\n",
        "def soma(x,y):\n",
        "    z = x + y\n",
        "    return z"
      ]
    },
    {
      "cell_type": "code",
      "execution_count": 3,
      "id": "72902555",
      "metadata": {
        "colab": {
          "base_uri": "https://localhost:8080/"
        },
        "id": "72902555",
        "outputId": "4391e35d-919d-429c-f687-e0c1f3137ef4"
      },
      "outputs": [
        {
          "output_type": "stream",
          "name": "stdout",
          "text": [
            "4\n",
            "3\n",
            "12\n",
            "3.5\n"
          ]
        }
      ],
      "source": [
        "#  Utilizando a função soma\n",
        "print(soma(2,2))\n",
        "\n",
        "print(soma(1,2))\n",
        "\n",
        "print(soma(10,2))\n",
        "\n",
        "print(soma(2,1.5))"
      ]
    },
    {
      "cell_type": "markdown",
      "id": "f984555c",
      "metadata": {
        "id": "f984555c"
      },
      "source": [
        "Você pode inventar qualquer **Nome** para as funções que você cria, exceto que você não pode usar um nome que é uma palavra reservada em Python, e que os nomes devem seguir a regra de identificadores permitidos.\n",
        "\n",
        "**Os parâmetros** especificam qual informação, se alguma, você deve providenciar para que a função possa ser usada. Outra forma de dizer isto é que os parâmetros especificam o que a função necessita para executar a sua tarefa. Uma função pode não ter parâmetros, ou seja, entradas vazias.\n",
        "\n",
        "Quando em encapsulamos comandos em funções, conseguimos otimizar o número de linhas de códigos e simples no entedimento."
      ]
    },
    {
      "cell_type": "code",
      "execution_count": 4,
      "id": "65498a53",
      "metadata": {
        "id": "65498a53"
      },
      "outputs": [],
      "source": [
        "#  Exemplo função com parâmetro vazio\n",
        "def print_hello_world():\n",
        "    print('Hello World')"
      ]
    },
    {
      "cell_type": "code",
      "execution_count": 5,
      "id": "c228c7f1",
      "metadata": {
        "colab": {
          "base_uri": "https://localhost:8080/"
        },
        "id": "c228c7f1",
        "outputId": "52393b31-7170-45b3-94c5-db96dd8e98e5"
      },
      "outputs": [
        {
          "output_type": "stream",
          "name": "stdout",
          "text": [
            "Hello World\n"
          ]
        }
      ],
      "source": [
        "print_hello_world()"
      ]
    },
    {
      "cell_type": "markdown",
      "id": "cd943841",
      "metadata": {
        "id": "cd943841"
      },
      "source": [
        "O escopo de uma variável determina de quais partes do código ela\n",
        "pode ser acessada, ou seja, de quais partes do código a variável é\n",
        "visı́vel.\n",
        "\n",
        "A regra de escopo em Python é bem simples:\n",
        "- As variáveis globais são visı́veis por todas as funções.\n",
        "- As variáveis locais são visı́veis apenas na função onde foram criadas.\n",
        "\n",
        "Olhe os comandos abaixo, são variáveis locais da função soma()."
      ]
    },
    {
      "cell_type": "code",
      "execution_count": 6,
      "id": "7e7680ef",
      "metadata": {
        "colab": {
          "base_uri": "https://localhost:8080/",
          "height": 141
        },
        "id": "7e7680ef",
        "outputId": "261b50f5-672e-425e-da54-6ca32bbf2843"
      },
      "outputs": [
        {
          "output_type": "error",
          "ename": "NameError",
          "evalue": "name 'x' is not defined",
          "traceback": [
            "\u001b[0;31m---------------------------------------------------------------------------\u001b[0m",
            "\u001b[0;31mNameError\u001b[0m                                 Traceback (most recent call last)",
            "\u001b[0;32m<ipython-input-6-fc17d851ef81>\u001b[0m in \u001b[0;36m<cell line: 1>\u001b[0;34m()\u001b[0m\n\u001b[0;32m----> 1\u001b[0;31m \u001b[0mprint\u001b[0m\u001b[0;34m(\u001b[0m\u001b[0mx\u001b[0m\u001b[0;34m)\u001b[0m\u001b[0;34m\u001b[0m\u001b[0;34m\u001b[0m\u001b[0m\n\u001b[0m",
            "\u001b[0;31mNameError\u001b[0m: name 'x' is not defined"
          ]
        }
      ],
      "source": [
        "print(x)"
      ]
    },
    {
      "cell_type": "code",
      "execution_count": 7,
      "id": "e9add9e5",
      "metadata": {
        "colab": {
          "base_uri": "https://localhost:8080/",
          "height": 141
        },
        "id": "e9add9e5",
        "outputId": "6a2428f6-8e4e-4a02-e8ba-6d0016aba854"
      },
      "outputs": [
        {
          "output_type": "error",
          "ename": "NameError",
          "evalue": "name 'y' is not defined",
          "traceback": [
            "\u001b[0;31m---------------------------------------------------------------------------\u001b[0m",
            "\u001b[0;31mNameError\u001b[0m                                 Traceback (most recent call last)",
            "\u001b[0;32m<ipython-input-7-d9183e048de3>\u001b[0m in \u001b[0;36m<cell line: 1>\u001b[0;34m()\u001b[0m\n\u001b[0;32m----> 1\u001b[0;31m \u001b[0mprint\u001b[0m\u001b[0;34m(\u001b[0m\u001b[0my\u001b[0m\u001b[0;34m)\u001b[0m\u001b[0;34m\u001b[0m\u001b[0;34m\u001b[0m\u001b[0m\n\u001b[0m",
            "\u001b[0;31mNameError\u001b[0m: name 'y' is not defined"
          ]
        }
      ],
      "source": [
        "print(y)"
      ]
    },
    {
      "cell_type": "code",
      "execution_count": 8,
      "id": "49f37c84",
      "metadata": {
        "colab": {
          "base_uri": "https://localhost:8080/",
          "height": 141
        },
        "id": "49f37c84",
        "outputId": "f23a3185-a411-46cb-a442-8435eb1803ca"
      },
      "outputs": [
        {
          "output_type": "error",
          "ename": "NameError",
          "evalue": "name 'z' is not defined",
          "traceback": [
            "\u001b[0;31m---------------------------------------------------------------------------\u001b[0m",
            "\u001b[0;31mNameError\u001b[0m                                 Traceback (most recent call last)",
            "\u001b[0;32m<ipython-input-8-c01ac3f50fdc>\u001b[0m in \u001b[0;36m<cell line: 1>\u001b[0;34m()\u001b[0m\n\u001b[0;32m----> 1\u001b[0;31m \u001b[0mprint\u001b[0m\u001b[0;34m(\u001b[0m\u001b[0mz\u001b[0m\u001b[0;34m)\u001b[0m\u001b[0;34m\u001b[0m\u001b[0;34m\u001b[0m\u001b[0m\n\u001b[0m",
            "\u001b[0;31mNameError\u001b[0m: name 'z' is not defined"
          ]
        }
      ],
      "source": [
        "print(z)"
      ]
    },
    {
      "cell_type": "markdown",
      "id": "ca303a57",
      "metadata": {
        "id": "ca303a57"
      },
      "source": [
        "Não conseguimos chamar essas variáveis (x,y,z), pelo fato que são locais."
      ]
    },
    {
      "cell_type": "markdown",
      "id": "71a3998f",
      "metadata": {
        "id": "71a3998f"
      },
      "source": [
        "###  Atividades\n",
        "1. Faça uma função que retorne o reverso de um número inteiro informado. Por exemplo: 127 -> 721."
      ]
    },
    {
      "cell_type": "code",
      "execution_count": 25,
      "id": "a863f31b",
      "metadata": {
        "colab": {
          "base_uri": "https://localhost:8080/"
        },
        "id": "a863f31b",
        "outputId": "f5ed9ba8-0d7a-48cd-ea39-6535d8941e3d"
      },
      "outputs": [
        {
          "output_type": "stream",
          "name": "stdout",
          "text": [
            "721\n"
          ]
        }
      ],
      "source": [
        "# Questão 1\n",
        "def reverso(x):\n",
        "  x =str(x)\n",
        "  print(x[::-1])\n",
        "\n",
        "\n",
        "reverso(127)"
      ]
    },
    {
      "cell_type": "markdown",
      "id": "d68d5051",
      "metadata": {
        "id": "d68d5051"
      },
      "source": [
        "2. Crie uma função que valide se a entrada número inteiro é um número Primo."
      ]
    },
    {
      "cell_type": "code",
      "execution_count": 90,
      "id": "56803ff7",
      "metadata": {
        "colab": {
          "base_uri": "https://localhost:8080/"
        },
        "id": "56803ff7",
        "outputId": "81e26362-ee9d-4daf-e474-c439245fb5ee"
      },
      "outputs": [
        {
          "output_type": "stream",
          "name": "stdout",
          "text": [
            "inteiro\n",
            "inteiro\n"
          ]
        }
      ],
      "source": [
        "# Questão 3\n",
        "def primos(num):\n",
        "  primo=0\n",
        "  if num <=1:\n",
        "    print('inteiro')\n",
        "  if num%2 == 0 and num>2:\n",
        "    print('inteiro')\n",
        "  if num >2:\n",
        "    for x in range(2,num):\n",
        "      if num%x ==0:\n",
        "        primo +=1\n",
        "  if primo ==0:\n",
        "    print('primo')\n",
        "  else:\n",
        "    print('inteiro')\n",
        "\n",
        "\n",
        "primos(10)"
      ]
    },
    {
      "cell_type": "markdown",
      "id": "fa565e45",
      "metadata": {
        "id": "fa565e45"
      },
      "source": [
        "3. Escreva uma função posibilite de converter uma temperatura de grau Celsius para Farenheit ou vice-versa.\n",
        "\n",
        "- Função Celsius para Farenheit:\n",
        "$F = C . \\frac{9}{5} + 32 $\n",
        "\n",
        "- Função Farenheit para Celsius:\n",
        "$C = (F - 32) . \\frac{5}{9} $"
      ]
    },
    {
      "cell_type": "code",
      "execution_count": 93,
      "id": "9d8f768c",
      "metadata": {
        "colab": {
          "base_uri": "https://localhost:8080/"
        },
        "id": "9d8f768c",
        "outputId": "a16070d6-9a3e-47a0-a636-716c805aba78"
      },
      "outputs": [
        {
          "output_type": "stream",
          "name": "stdout",
          "text": [
            "opção inválida\n"
          ]
        }
      ],
      "source": [
        "# Questão 4\n",
        "def conversor(unidade, temp):\n",
        "  if unidade == 'F' or unidade =='f':\n",
        "    print(f'A temperatura em Farenheit é:{(temp*(9/5))+32}')\n",
        "  elif unidade == 'C' or unidade =='c':\n",
        "    print(f'A temperatura em Celsius é:{(temp-32)*(9/5)}')\n",
        "  else:\n",
        "    print('opção inválida')\n",
        "\n",
        "conversor('g',23)"
      ]
    },
    {
      "cell_type": "markdown",
      "id": "c5b3ae89",
      "metadata": {
        "id": "c5b3ae89"
      },
      "source": [
        "4. Um número é dito perfeito quando ele é igual a soma de seus fatores. Por exemplo, os fatores de 6 são 1, 2 e 3 (ou seja, podemos dividir 6 por 1, por 2 e por 3) e 6=1+2+3, logo 6 é um número perfeito. Escreva uma função que recebe um inteiro e dizer se é perfeito ou não."
      ]
    },
    {
      "cell_type": "code",
      "execution_count": 96,
      "id": "b61e89b3",
      "metadata": {
        "colab": {
          "base_uri": "https://localhost:8080/"
        },
        "id": "b61e89b3",
        "outputId": "6533dfd8-ec58-4621-8c69-bda59f0e12e7"
      },
      "outputs": [
        {
          "output_type": "stream",
          "name": "stdout",
          "text": [
            "o número é perfeito\n"
          ]
        }
      ],
      "source": [
        "# Questão 5\n",
        "def perfeito(num):\n",
        "  fatores = 0\n",
        "  for x in range(1,num):\n",
        "    if num % x ==0:\n",
        "      fatores = fatores + x\n",
        "  if fatores == num:\n",
        "    print('o número é perfeito')\n",
        "  else:\n",
        "    print('o número não é perfeito')\n",
        "\n",
        "perfeito(28)\n",
        "\n",
        "\n"
      ]
    }
  ],
  "metadata": {
    "kernelspec": {
      "display_name": "Python 3",
      "language": "python",
      "name": "python3"
    },
    "language_info": {
      "codemirror_mode": {
        "name": "ipython",
        "version": 3
      },
      "file_extension": ".py",
      "mimetype": "text/x-python",
      "name": "python",
      "nbconvert_exporter": "python",
      "pygments_lexer": "ipython3",
      "version": "3.7.10"
    },
    "colab": {
      "provenance": [],
      "include_colab_link": true
    }
  },
  "nbformat": 4,
  "nbformat_minor": 5
}